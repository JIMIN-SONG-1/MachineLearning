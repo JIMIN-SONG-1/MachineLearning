{
 "cells": [
  {
   "cell_type": "code",
   "execution_count": 1,
   "id": "ea22e563-806c-4173-bcb7-5b1f81ca81b9",
   "metadata": {},
   "outputs": [],
   "source": [
    "import matplotlib.pyplot as plt\n",
    "import matplotlib as mpl\n",
    "import numpy as np\n",
    "\n",
    "\n",
    "def svm_model_plot(trained_svm, feature, label, feature_name):\n",
    "    \n",
    "    x1_min = min(feature[:, 0]) -1\n",
    "    x1_max = max(feature[:, 0]) +1\n",
    "    x2_min = min(feature[:, 1]) -1\n",
    "    x2_max = max(feature[:, 1]) +1\n",
    "    XX, YY = np.mgrid[x1_min:x1_max:200j, x2_min:x2_max:200j]\n",
    "    \n",
    "    levels = [-1, 0, 1]\n",
    "    linestyles = ['dashed', 'solid', 'dashed']\n",
    "    Z = trained_svm.decision_function(np.c_[XX.ravel(), YY.ravel()])\n",
    "    Z = Z.reshape(XX.shape)\n",
    "    \n",
    "    plt.contour(XX, YY, Z, levels, colors='k', linestyles=linestyles)\n",
    "    plt.scatter(trained_svm.support_vectors_[:, 0], trained_svm.support_vectors_[:, 1], s=120, linewidth=4)\n",
    "    plt.scatter(feature[:, 0], feature[:, 1], c=label, s=60, linewidth=1, cmap=plt.cm.Paired)\n",
    "    plt.xlim(x1_min, x1_max)\n",
    "    plt.ylim(x2_min, x2_max)\n",
    "    \n",
    "    plt.xlabel(feature_name[0])\n",
    "    plt.ylabel(feature_name[1])\n",
    "    \n",
    "    plt.savefig(\"result3.png\")"
   ]
  },
  {
   "cell_type": "code",
   "execution_count": null,
   "id": "17d12964-6635-496c-ba06-92bec0817f40",
   "metadata": {},
   "outputs": [],
   "source": []
  }
 ],
 "metadata": {
  "kernelspec": {
   "display_name": "Python 3 (ipykernel)",
   "language": "python",
   "name": "python3"
  },
  "language_info": {
   "codemirror_mode": {
    "name": "ipython",
    "version": 3
   },
   "file_extension": ".py",
   "mimetype": "text/x-python",
   "name": "python",
   "nbconvert_exporter": "python",
   "pygments_lexer": "ipython3",
   "version": "3.11.9"
  }
 },
 "nbformat": 4,
 "nbformat_minor": 5
}
