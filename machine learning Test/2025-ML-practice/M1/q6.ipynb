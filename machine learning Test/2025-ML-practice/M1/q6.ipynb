{
 "cells": [
  {
   "cell_type": "code",
   "execution_count": 6,
   "id": "0b593ab2-8c62-4a79-b70b-8b4e1c436ae3",
   "metadata": {},
   "outputs": [
    {
     "name": "stdout",
     "output_type": "stream",
     "text": [
      "데이터 확인해보기 :\n",
      " [[1.423e+01 1.710e+00 2.430e+00 1.560e+01 1.270e+02 2.800e+00 3.060e+00\n",
      "  2.800e-01 2.290e+00 5.640e+00 1.040e+00 3.920e+00 1.065e+03]] 0\n",
      "\n",
      "Model Accuracy : \n",
      "0.9166666666666666\n"
     ]
    }
   ],
   "source": [
    "from sklearn.datasets import load_wine\n",
    "\n",
    "from sklearn.model_selection import train_test_split\n",
    "from sklearn.naive_bayes import GaussianNB\n",
    "from sklearn.metrics import accuracy_score\n",
    "\n",
    "\"\"\"\n",
    "1. 데이터를 불러오고, \n",
    "   불러온 데이터를 학습용, 테스트용 데이터로 \n",
    "   분리하여 반환하는 함수를 구현합니다.\n",
    "\"\"\"\n",
    "def load_data():\n",
    "    \n",
    "    X, y = load_wine(return_X_y = True)\n",
    "    \n",
    "    print(\"데이터 확인해보기 :\\n\", X[:1], y[0])\n",
    "    \n",
    "    train_X, test_X, train_y, test_y = train_test_split(X, y, test_size=0.2, random_state=0)\n",
    "    \n",
    "    return train_X, test_X, train_y, test_y\n",
    "    \n",
    "\"\"\"\n",
    "2. 가우시안 나이브 베이즈 모델을 불러오고,\n",
    "   학습을 진행한 후 테스트 데이터에 대한 \n",
    "   예측값을 반환하는 함수를 구현합니다.\n",
    "\"\"\"\n",
    "def Gaussian_NB(train_X, test_X, train_y, test_y):\n",
    "    \n",
    "    model = GaussianNB()\n",
    "    \n",
    "    model.fit(train_X, train_y)\n",
    "    \n",
    "    predicted = model.predict(test_X)\n",
    "    \n",
    "    return predicted\n",
    "    \n",
    "# 데이터 불러오기, 모델 예측 결과를 확인할 수 있는 함수입니다.\n",
    "def main():\n",
    "    \n",
    "    train_X, test_X, train_y, test_y = load_data()\n",
    "    \n",
    "    predicted = Gaussian_NB(train_X, test_X, train_y, test_y)\n",
    "    \n",
    "    ## 모델 정확도를 통해 분류 성능을 확인해봅니다.\n",
    "    print(\"\\nModel Accuracy : \")\n",
    "    print(accuracy_score(test_y, predicted))\n",
    "\n",
    "if __name__ == \"__main__\":\n",
    "    main()"
   ]
  },
  {
   "cell_type": "code",
   "execution_count": null,
   "id": "da7e07a1-d92e-474e-8294-c73a0ac18c9b",
   "metadata": {},
   "outputs": [],
   "source": []
  }
 ],
 "metadata": {
  "kernelspec": {
   "display_name": "Python 3 (ipykernel)",
   "language": "python",
   "name": "python3"
  },
  "language_info": {
   "codemirror_mode": {
    "name": "ipython",
    "version": 3
   },
   "file_extension": ".py",
   "mimetype": "text/x-python",
   "name": "python",
   "nbconvert_exporter": "python",
   "pygments_lexer": "ipython3",
   "version": "3.11.9"
  }
 },
 "nbformat": 4,
 "nbformat_minor": 5
}
