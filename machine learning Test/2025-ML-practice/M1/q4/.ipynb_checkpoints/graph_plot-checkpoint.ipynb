{
 "cells": [
  {
   "cell_type": "code",
   "execution_count": null,
   "id": "89108cfb-a31a-4938-8ff6-1326ede76346",
   "metadata": {},
   "outputs": [],
   "source": [
    "from sklearn import svm\n",
    "\n",
    "def train_linear_model(x_mat, y_vec):\n",
    "    \n",
    "    # <ToDo>: scikit-learn을 활용해서 모델을 생성하고, x_mat, y_vec으로 모델을 학습시킵니다.\n",
    "    # 슬랙변수 가중치 C는 10으로 설정합니다.\n",
    "    model = svm\n",
    "    trained_model = None\n",
    "    \n",
    "    return trained_model\n",
    "\n",
    "def train_poly_model(x_mat, y_vec):\n",
    "    \n",
    "    # <ToDo>: scikit-learn을 활용해서 모델을 생성하고, x_mat, y_vec으로 모델을 학습시킵니다.\n",
    "    # 슬랙변수 가중치 C는 10으로 설정합니다.\n",
    "    model = None\n",
    "    trained_model = None\n",
    "    \n",
    "    return trained_model\n",
    "    \n",
    "def train_rbf_model(x_mat, y_vec):\n",
    "    \n",
    "    # <ToDo>: scikit-learn을 활용해서 모델을 생성하고, x_mat, y_vec으로 모델을 학습시킵니다.\n",
    "    # 슬랙변수 가중치 C는 10으로 설정합니다.\n",
    "    model = None\n",
    "    trained_model = None\n",
    "    \n",
    "    return trained_model\n",
    "    \n",
    "def train_sig_model(x_mat, y_vec):\n",
    "    \n",
    "    # <ToDo>: scikit-learn을 활용해서 모델을 생성하고, x_mat, y_vec으로 모델을 학습시킵니다.\n",
    "    # 슬랙변수 가중치 C는 10으로 설정합니다.\n",
    "    model = None\n",
    "    trained_model = None\n",
    "    \n",
    "    return trained_model\n",
    "\n",
    "def evaluate_model(model, x_mat, y_vec):\n",
    "    \n",
    "    # <ToDo>: 검증용으로 주어진 데이터를 이용해서 모델의 성능을 평가합니다.\n",
    "    mean_acc = None\n",
    "    \n",
    "    return mean_acc"
   ]
  }
 ],
 "metadata": {
  "kernelspec": {
   "display_name": "Python 3 (ipykernel)",
   "language": "python",
   "name": "python3"
  },
  "language_info": {
   "codemirror_mode": {
    "name": "ipython",
    "version": 3
   },
   "file_extension": ".py",
   "mimetype": "text/x-python",
   "name": "python",
   "nbconvert_exporter": "python",
   "pygments_lexer": "ipython3",
   "version": "3.11.9"
  }
 },
 "nbformat": 4,
 "nbformat_minor": 5
}
