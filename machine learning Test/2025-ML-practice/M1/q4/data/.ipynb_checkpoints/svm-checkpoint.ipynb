{
 "cells": [
  {
   "cell_type": "code",
   "execution_count": 2,
   "id": "97e69074-bcab-4ebc-9f51-4888b805cf3e",
   "metadata": {},
   "outputs": [],
   "source": [
    "from sklearn import svm\n",
    "\n",
    "def train_linear_model(x_mat, y_vec):\n",
    "    \n",
    "    # <ToDo>: scikit-learn을 활용해서 모델을 생성하고, x_mat, y_vec으로 모델을 학습시킵니다.\n",
    "    # 슬랙변수 가중치 C는 10으로 설정합니다.\n",
    "    model = svm.SVC(kernel='linear', C=10)\n",
    "    trained_model = model.fit(x_mat, y_vec)\n",
    "    \n",
    "    return trained_model\n",
    "\n",
    "def train_poly_model(x_mat, y_vec):\n",
    "    \n",
    "    # <ToDo>: scikit-learn을 활용해서 모델을 생성하고, x_mat, y_vec으로 모델을 학습시킵니다.\n",
    "    # 슬랙변수 가중치 C는 10으로 설정합니다.\n",
    "    model = svm.SVC(kernel='poly', C=10)\n",
    "    trained_model = model.fit(x_mat, y_vec)\n",
    "    \n",
    "    return trained_model\n",
    "    \n",
    "def train_rbf_model(x_mat, y_vec):\n",
    "    \n",
    "    # <ToDo>: scikit-learn을 활용해서 모델을 생성하고, x_mat, y_vec으로 모델을 학습시킵니다.\n",
    "    # 슬랙변수 가중치 C는 10으로 설정합니다.\n",
    "    model = svm.SVC(kernel='rbf', CC=1)\n",
    "    trained_model = model.fit(x_mat, y_vec)\n",
    "    \n",
    "    return trained_model\n",
    "    \n",
    "def train_sig_model(x_mat, y_vec):\n",
    "    \n",
    "    # <ToDo>: scikit-learn을 활용해서 모델을 생성하고, x_mat, y_vec으로 모델을 학습시킵니다.\n",
    "    # 슬랙변수 가중치 C는 10으로 설정합니다.\n",
    "    model = svm.SVC(kernel='sigmoid', CC=10)\n",
    "    trained_model = model.fit(x_mat, y_vec)\n",
    "    \n",
    "    return trained_model\n",
    "\n",
    "def evaluate_model(model, x_mat, y_vec):\n",
    "    \n",
    "    # <ToDo>: 검증용으로 주어진 데이터를 이용해서 모델의 성능을 평가합니다.\n",
    "    mean_acc = model.score(x_mat, y_vec)\n",
    "\n",
    "    return mean_acc"
   ]
  },
  {
   "cell_type": "code",
   "execution_count": null,
   "id": "9ffaa71a-6ba6-40af-a017-07d839bc4a0e",
   "metadata": {},
   "outputs": [],
   "source": []
  }
 ],
 "metadata": {
  "kernelspec": {
   "display_name": "Python 3 (ipykernel)",
   "language": "python",
   "name": "python3"
  },
  "language_info": {
   "codemirror_mode": {
    "name": "ipython",
    "version": 3
   },
   "file_extension": ".py",
   "mimetype": "text/x-python",
   "name": "python",
   "nbconvert_exporter": "python",
   "pygments_lexer": "ipython3",
   "version": "3.11.9"
  }
 },
 "nbformat": 4,
 "nbformat_minor": 5
}
