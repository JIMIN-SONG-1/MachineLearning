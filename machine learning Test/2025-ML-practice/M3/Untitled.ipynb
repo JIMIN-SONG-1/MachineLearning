{
 "cells": [
  {
   "cell_type": "code",
   "execution_count": 99,
   "id": "02935464-c3c5-4468-956c-b3845202a4f7",
   "metadata": {},
   "outputs": [
    {
     "name": "stdout",
     "output_type": "stream",
     "text": [
      "['.ipynb_checkpoints', 'data', 'main.py', 'model.py', 'PCA.png', 'plot.png', 'preprocess.py', '__pycache__']\n"
     ]
    }
   ],
   "source": [
    "import os\n",
    "print(os.listdir())  # 현재 디렉토리에 있는 파일 확인"
   ]
  },
  {
   "cell_type": "code",
   "execution_count": 98,
   "id": "efc9b29b-ec16-4493-8fc3-ca5d246f7b52",
   "metadata": {
    "scrolled": true
   },
   "outputs": [
    {
     "ename": "AttributeError",
     "evalue": "module 'model' has no attribute 'PCA'",
     "output_type": "error",
     "traceback": [
      "\u001b[31m---------------------------------------------------------------------------\u001b[39m",
      "\u001b[31mAttributeError\u001b[39m                            Traceback (most recent call last)",
      "\u001b[36mCell\u001b[39m\u001b[36m \u001b[39m\u001b[32mIn[98]\u001b[39m\u001b[32m, line 44\u001b[39m\n\u001b[32m     40\u001b[39m     \u001b[38;5;28mprint\u001b[39m(\u001b[33m'\u001b[39m\u001b[33m원본 데이터의 차원 = \u001b[39m\u001b[38;5;132;01m{}\u001b[39;00m\u001b[33m, n_components = \u001b[39m\u001b[38;5;132;01m{}\u001b[39;00m\u001b[33m, 원본 대비 축소후의 분산의 비율: \u001b[39m\u001b[38;5;132;01m{}\u001b[39;00m\u001b[33m'\u001b[39m.format(X.shape[\u001b[32m1\u001b[39m], \u001b[32m2\u001b[39m, percentage))\n\u001b[32m     43\u001b[39m \u001b[38;5;28;01mif\u001b[39;00m \u001b[34m__name__\u001b[39m == \u001b[33m\"\u001b[39m\u001b[33m__main__\u001b[39m\u001b[33m\"\u001b[39m:\n\u001b[32m---> \u001b[39m\u001b[32m44\u001b[39m     \u001b[43mmain\u001b[49m\u001b[43m(\u001b[49m\u001b[43m)\u001b[49m\n",
      "\u001b[36mCell\u001b[39m\u001b[36m \u001b[39m\u001b[32mIn[98]\u001b[39m\u001b[32m, line 34\u001b[39m, in \u001b[36mmain\u001b[39m\u001b[34m()\u001b[39m\n\u001b[32m     32\u001b[39m \u001b[38;5;66;03m# <TODO> PCA의 n_components에 성분의 개수를 입력해 여러가지 PCA 모델을 시도해보세요.\u001b[39;00m\n\u001b[32m     33\u001b[39m n_components = \u001b[32m2\u001b[39m\n\u001b[32m---> \u001b[39m\u001b[32m34\u001b[39m myPCA = \u001b[43myour_choice\u001b[49m\u001b[43m(\u001b[49m\u001b[43mX\u001b[49m\u001b[43m,\u001b[49m\u001b[43m \u001b[49m\u001b[43mn_components\u001b[49m\u001b[43m)\u001b[49m\n\u001b[32m     36\u001b[39m \u001b[38;5;66;03m# <ToDo>: 모델 학습의 결과로 원본 대비 축소후의 분산의 비율을 계산합니다.\u001b[39;00m\n\u001b[32m     37\u001b[39m percentage = variance_calculator(myPCA)\n",
      "\u001b[36mCell\u001b[39m\u001b[36m \u001b[39m\u001b[32mIn[98]\u001b[39m\u001b[32m, line 22\u001b[39m, in \u001b[36myour_choice\u001b[39m\u001b[34m(X, n_components)\u001b[39m\n\u001b[32m     21\u001b[39m \u001b[38;5;28;01mdef\u001b[39;00m\u001b[38;5;250m \u001b[39m\u001b[34myour_choice\u001b[39m(X, n_components):\n\u001b[32m---> \u001b[39m\u001b[32m22\u001b[39m     myPCA = \u001b[43mmd\u001b[49m\u001b[43m.\u001b[49m\u001b[43mPCA\u001b[49m(n_components = \u001b[32m2\u001b[39m)\n\u001b[32m     23\u001b[39m     myPCA.fit_transform(X)\n\u001b[32m     25\u001b[39m     \u001b[38;5;28;01mreturn\u001b[39;00m myPCA\n",
      "\u001b[31mAttributeError\u001b[39m: module 'model' has no attribute 'PCA'"
     ]
    }
   ],
   "source": [
    "import preprocess as pre\n",
    "import model as md\n",
    "import numpy as np\n",
    "\n",
    "\n",
    "def variance_calculator(model):\n",
    "    \n",
    "    # PCA 결과에 대한 분산의 유지율 계산하여 반환합니다.\n",
    "    # <ToDo>: 원본의 분산을 구합니다.\n",
    "    original_var = model.lambda_.sum()\n",
    "    \n",
    "    # <ToDo>: 차원축소된 벡터공간에서의 분산 유지율을 계산합니다.\n",
    "    order = (-model.lambda_).argsort()\n",
    "    print(model.lambda_)\n",
    "    shrinked_var = model.lambda_[var].sum()\n",
    "    print(model.lambda_)\n",
    "    # <ToDo>: 차원축소된 벡터공간에서 유지된 분산을 원본의 분산으로 나눠 분산 유지율을 계산해 반환합니다.\n",
    "    return shrinked_var / original_var\n",
    "\n",
    "# <TODO> 여러분이 답으로 제출하고 싶은 군집의 개수로 your_choice 함수의 '?' 부분에 넣은 후 제출하세요.\n",
    "def your_choice(X, n_components):\n",
    "    myPCA = md.PCA(n_components = 2)\n",
    "    myPCA.fit_transform(X)\n",
    "    \n",
    "    return myPCA\n",
    "\n",
    "\n",
    "def main():\n",
    "\n",
    "    X = pre.load_data()\n",
    "    \n",
    "    # <TODO> PCA의 n_components에 성분의 개수를 입력해 여러가지 PCA 모델을 시도해보세요.\n",
    "    n_components = 2\n",
    "    myPCA = your_choice(X, n_components)\n",
    "    \n",
    "    # <ToDo>: 모델 학습의 결과로 원본 대비 축소후의 분산의 비율을 계산합니다.\n",
    "    percentage = variance_calculator(myPCA)\n",
    "    \n",
    "    # 축소후 차원의 수와 원본 대비 축소후의 분산의 비율을 출력합니다. \n",
    "    print('원본 데이터의 차원 = {}, n_components = {}, 원본 대비 축소후의 분산의 비율: {}'.format(X.shape[1], 2, percentage))\n",
    "    \n",
    "\n",
    "if __name__ == \"__main__\":\n",
    "    main()"
   ]
  },
  {
   "cell_type": "code",
   "execution_count": null,
   "id": "b074c14c-f23f-4b87-9629-54fe29aca545",
   "metadata": {},
   "outputs": [],
   "source": []
  }
 ],
 "metadata": {
  "kernelspec": {
   "display_name": "Python 3 (ipykernel)",
   "language": "python",
   "name": "python3"
  },
  "language_info": {
   "codemirror_mode": {
    "name": "ipython",
    "version": 3
   },
   "file_extension": ".py",
   "mimetype": "text/x-python",
   "name": "python",
   "nbconvert_exporter": "python",
   "pygments_lexer": "ipython3",
   "version": "3.11.9"
  }
 },
 "nbformat": 4,
 "nbformat_minor": 5
}
