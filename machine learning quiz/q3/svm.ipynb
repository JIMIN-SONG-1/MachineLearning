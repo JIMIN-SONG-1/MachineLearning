{
 "cells": [
  {
   "cell_type": "code",
   "execution_count": 2,
   "id": "8276c7fb-0ae3-45cf-a293-35a9678e133a",
   "metadata": {},
   "outputs": [],
   "source": [
    "from sklearn import svm\n",
    "\n",
    "def train_model(x_mat, y_vec):\n",
    "    \n",
    "    # <ToDo>: scikit-learn을 활용해서 모델을 생성하고, x_mat, y_vec으로 모델을 학습시킵니다.\n",
    "        \n",
    "    model = svm.SVC(kernel='linear', C=80)\n",
    "    \n",
    "    trained_model = model.fit(x_mat, y_vec)\n",
    "    \n",
    "    return trained_model\n",
    "\n",
    "def evaluate_model(model, x_mat, y_vec):\n",
    "    \n",
    "    # <ToDo>: 검증용으로 주어진 데이터를 이용해서 모델의 성능을 평가합니다.\n",
    "    mean_acc = model.score(x_mat, y_vec)\n",
    "    \n",
    "    return mean_acc"
   ]
  },
  {
   "cell_type": "code",
   "execution_count": null,
   "id": "873dae07-a1e7-43c8-a603-ca2aa9a939c1",
   "metadata": {},
   "outputs": [],
   "source": []
  }
 ],
 "metadata": {
  "kernelspec": {
   "display_name": "Python 3 (ipykernel)",
   "language": "python",
   "name": "python3"
  },
  "language_info": {
   "codemirror_mode": {
    "name": "ipython",
    "version": 3
   },
   "file_extension": ".py",
   "mimetype": "text/x-python",
   "name": "python",
   "nbconvert_exporter": "python",
   "pygments_lexer": "ipython3",
   "version": "3.11.9"
  }
 },
 "nbformat": 4,
 "nbformat_minor": 5
}
