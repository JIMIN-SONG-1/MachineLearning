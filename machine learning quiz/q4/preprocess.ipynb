{
 "cells": [
  {
   "cell_type": "code",
   "execution_count": 4,
   "id": "00fce86e-fab8-4827-9b89-5cba095a913b",
   "metadata": {},
   "outputs": [],
   "source": [
    "import pandas as pd\n",
    "\n",
    "def load_data(path, independent_var, response_var):\n",
    "    \n",
    "    data = pd.read_csv(\"C://Users/302-24/Desktop/machine learning/(250320) 머신러닝 분류 실습/q4/data/iris.csv\", header=0)\n",
    "    \n",
    "    data = data[(data['class_num'] == 1) | (data['class_num'] == 2)]\n",
    "    \n",
    "    x_mat = data.loc[:, independent_var].values.reshape(-1, 2)\n",
    "    y_vec = data.loc[:, response_var].values.reshape(-1, )\n",
    "    \n",
    "    # 전체 데이터를 훈련용과 검증용으로 나눕니다.\n",
    "    x_train = x_mat[10:]\n",
    "    y_train = y_vec[10:]\n",
    "    x_val = x_mat[0:10]\n",
    "    y_val = y_vec[0:10]\n",
    "    \n",
    "    return x_train, y_train, x_val, y_val"
   ]
  }
 ],
 "metadata": {
  "kernelspec": {
   "display_name": "Python 3 (ipykernel)",
   "language": "python",
   "name": "python3"
  },
  "language_info": {
   "codemirror_mode": {
    "name": "ipython",
    "version": 3
   },
   "file_extension": ".py",
   "mimetype": "text/x-python",
   "name": "python",
   "nbconvert_exporter": "python",
   "pygments_lexer": "ipython3",
   "version": "3.11.9"
  }
 },
 "nbformat": 4,
 "nbformat_minor": 5
}
